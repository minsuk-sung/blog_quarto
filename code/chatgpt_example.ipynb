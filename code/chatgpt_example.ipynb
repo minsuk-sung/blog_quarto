{
 "cells": [
  {
   "attachments": {},
   "cell_type": "markdown",
   "metadata": {},
   "source": [
    "---\n",
    "title: \"ChatGPT in Python\"\n",
    "format:\n",
    "    html:\n",
    "        code-fold: false\n",
    "author: \"성민석\"\n",
    "date: \"2023-04-12\"\n",
    "categories: [code, ai]\n",
    "---"
   ]
  },
  {
   "attachments": {},
   "cell_type": "markdown",
   "metadata": {},
   "source": [
    "## 간단한 ChatGPT 코드"
   ]
  },
  {
   "cell_type": "code",
   "execution_count": 9,
   "metadata": {},
   "outputs": [],
   "source": [
    "import openai\n",
    "import getpass\n",
    "\n",
    "YOUR_API_KEY = getpass.getpass('Input your api key: ')"
   ]
  },
  {
   "cell_type": "code",
   "execution_count": 10,
   "metadata": {},
   "outputs": [],
   "source": [
    "def chatGPT(prompt, API_KEY=YOUR_API_KEY):\n",
    "\n",
    "    # set api key\n",
    "    openai.api_key = API_KEY\n",
    "\n",
    "    # Call the chat GPT API\n",
    "    completion = openai.Completion.create(\n",
    "        engine='text-davinci-003',  # 'text-curie-001'  # 'text-babbage-001' #'text-ada-001'\n",
    "        prompt=prompt,\n",
    "        temperature=0.5,\n",
    "        max_tokens=1024,\n",
    "        top_p=1,\n",
    "        frequency_penalty=0,\n",
    "        presence_penalty=0\n",
    "    )\n",
    "\n",
    "    return completion['choices'][0]['text']\n"
   ]
  },
  {
   "cell_type": "code",
   "execution_count": 11,
   "metadata": {},
   "outputs": [],
   "source": [
    "prompt = '다음 문장을 영어로 번역해줘. 이것은 Quarto를 포스팅하기 위한 실험용 포스팅 글입니다.'"
   ]
  },
  {
   "cell_type": "code",
   "execution_count": 12,
   "metadata": {},
   "outputs": [
    {
     "name": "stdout",
     "output_type": "stream",
     "text": [
      "\n",
      "Answer: This is a test post for posting Quarto.\n"
     ]
    }
   ],
   "source": [
    "result = chatGPT(prompt).strip()\n",
    "print('\\nAnswer: {}'.format(result))"
   ]
  },
  {
   "attachments": {},
   "cell_type": "markdown",
   "metadata": {},
   "source": [
    "## 이후 과정\n",
    "```bash\n",
    "$ quarto convert chatgpt_example.ipynb\n",
    "$ quarto render --no-execute-daemon\n",
    "```"
   ]
  }
 ],
 "metadata": {
  "kernelspec": {
   "display_name": "backtest",
   "language": "python",
   "name": "backtest"
  },
  "language_info": {
   "codemirror_mode": {
    "name": "ipython",
    "version": 3
   },
   "file_extension": ".py",
   "mimetype": "text/x-python",
   "name": "python",
   "nbconvert_exporter": "python",
   "pygments_lexer": "ipython3",
   "version": "3.7.13"
  },
  "orig_nbformat": 4
 },
 "nbformat": 4,
 "nbformat_minor": 2
}
